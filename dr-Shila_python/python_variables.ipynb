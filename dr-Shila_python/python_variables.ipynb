{
 "cells": [
  {
   "cell_type": "code",
   "execution_count": 8,
   "metadata": {},
   "outputs": [
    {
     "name": "stdout",
     "output_type": "stream",
     "text": [
      "10 20\n",
      "hello\n",
      "world\n"
     ]
    }
   ],
   "source": [
    "\"\"\"Rules for using Variables\"\"\"\n",
    "\n",
    "# 1. Variable name should be descriptive\n",
    "# 2. Variable name should not be a reserved word\n",
    "# 3. Variable name should not be a special symbol\n",
    "# 4. Variable name should not start with a number\n",
    "# 5. Variable name should not contain a space\n",
    "# Obs: Python is case sensitive\n",
    "# Obs2: O padrao de python para nomear variaveis é snake_case\n",
    "\n",
    "x = 10\n",
    "X = 20\n",
    "print(x, X)\n",
    "\n",
    "xX = \"hello\"\n",
    "Xx = \"world\"\n",
    "print(xX, Xx, sep=\"\\n\")\n",
    "\n",
    "\n"
   ]
  },
  {
   "cell_type": "code",
   "execution_count": 9,
   "metadata": {},
   "outputs": [
    {
     "name": "stdout",
     "output_type": "stream",
     "text": [
      "A área do retângulo é: 15\n",
      "João tem 25 anos e é de São Paulo.\n",
      "A média da turma é: 6.0\n",
      "Eu tenho 3 amigos: ['Ana', 'Bruno', 'Carla']\n",
      "100 metros equivalem a 10000 centímetros.\n"
     ]
    }
   ],
   "source": [
    "'''Good examples'''\n",
    "\n",
    "# Calculando a área de um retângulo\n",
    "comprimento = 5\n",
    "largura = 3\n",
    "area_retangulo = comprimento * largura\n",
    "\n",
    "print(\"A área do retângulo é:\", area_retangulo)  # Saída: A área do retângulo é: 15\n",
    "\n",
    "nome_usuario = \"João\"\n",
    "idade_usuario = 25\n",
    "cidade_natal = \"São Paulo\"\n",
    "\n",
    "print(f\"{nome_usuario} tem {idade_usuario} anos e é de {cidade_natal}.\")\n",
    "# Saída: João tem 25 anos e é de São Paulo.\n",
    "\n",
    "numero_de_alunos = 3\n",
    "soma_notas = 0\n",
    "\n",
    "for contador in range(numero_de_alunos):\n",
    "    nota = float(input(f\"Digite a nota do aluno {contador + 1}: \"))\n",
    "    soma_notas += nota\n",
    "\n",
    "media_turma = soma_notas / numero_de_alunos\n",
    "print(\"A média da turma é:\", media_turma)\n",
    "\n",
    "\n",
    "nomes_amigos = [\"Ana\", \"Bruno\", \"Carla\"]\n",
    "quantidade_amigos = len(nomes_amigos)\n",
    "\n",
    "print(f\"Eu tenho {quantidade_amigos} amigos: {nomes_amigos}\")\n",
    "# Saída: Eu tenho 3 amigos: ['Ana', 'Bruno', 'Carla']\n",
    "\n",
    "metros = 100\n",
    "centimetros_por_metro = 100\n",
    "centimetros = metros * centimetros_por_metro\n",
    "\n",
    "print(f\"{metros} metros equivalem a {centimetros} centímetros.\")\n",
    "# Saída: 100 metros equivalem a 10000 centímetros."
   ]
  }
 ],
 "metadata": {
  "kernelspec": {
   "display_name": "base",
   "language": "python",
   "name": "python3"
  },
  "language_info": {
   "codemirror_mode": {
    "name": "ipython",
    "version": 3
   },
   "file_extension": ".py",
   "mimetype": "text/x-python",
   "name": "python",
   "nbconvert_exporter": "python",
   "pygments_lexer": "ipython3",
   "version": "3.12.7"
  }
 },
 "nbformat": 4,
 "nbformat_minor": 2
}

{
 "cells": [
  {
   "cell_type": "code",
   "execution_count": null,
   "metadata": {},
   "outputs": [],
   "source": [
    "\"\"\"Data types\"\"\"\n",
    "\n",
    "# There are Built-in data types and Universal data types, like str, int, float and bool.\n",
    "\n",
    "#But we also have sequential data types, like list, sets, tuples and dictionaries."
   ]
  },
  {
   "cell_type": "code",
   "execution_count": 6,
   "metadata": {},
   "outputs": [
    {
     "name": "stdout",
     "output_type": "stream",
     "text": [
      "(5, 10, 15, 20)\n",
      "(4.5, 8.9, 12.3)\n",
      "('Hello', 'World', 'Python')\n",
      "(True, False)\n"
     ]
    }
   ],
   "source": [
    "integer = 5, 10, 15, 20\n",
    "floar = 4.5, 8.9, 12.3\n",
    "string = \"Hello\", \"World\", \"Python\"\n",
    "boolean = True, False\n",
    "\n",
    "print(integer, floar, string, boolean, sep='\\n')\n",
    "# OBS: -> The fact that I put more than one value in one variable, made all be tuples when use the function type, like print(type(integer))"
   ]
  },
  {
   "cell_type": "code",
   "execution_count": 5,
   "metadata": {},
   "outputs": [
    {
     "name": "stdout",
     "output_type": "stream",
     "text": [
      "<class 'bool'>\n",
      "<class 'int'>\n",
      "<class 'str'>\n",
      "<class 'float'>\n"
     ]
    }
   ],
   "source": [
    "a = True\n",
    "print(type(a))\n",
    "\n",
    "b = 55\n",
    "print(type(b))\n",
    "\n",
    "c = \"Hello\"\n",
    "print(type(c))\n",
    "\n",
    "d = 2.78\n",
    "print(type(d))"
   ]
  },
  {
   "cell_type": "code",
   "execution_count": null,
   "metadata": {},
   "outputs": [],
   "source": []
  }
 ],
 "metadata": {
  "kernelspec": {
   "display_name": "base",
   "language": "python",
   "name": "python3"
  },
  "language_info": {
   "codemirror_mode": {
    "name": "ipython",
    "version": 3
   },
   "file_extension": ".py",
   "mimetype": "text/x-python",
   "name": "python",
   "nbconvert_exporter": "python",
   "pygments_lexer": "ipython3",
   "version": "3.12.7"
  }
 },
 "nbformat": 4,
 "nbformat_minor": 2
}

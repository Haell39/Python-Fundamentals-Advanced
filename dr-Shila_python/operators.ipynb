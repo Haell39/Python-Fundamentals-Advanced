{
 "cells": [
  {
   "cell_type": "code",
   "execution_count": 5,
   "metadata": {},
   "outputs": [
    {
     "data": {
      "text/plain": [
       "' \\n1. Arithmetic Operators\\n2. Assignment Operators\\n3. Comparison Operators\\n4. Logical Operators\\n5. Identity Operators\\n6. Membership Operators\\n7. Bitwise Operators \\n'"
      ]
     },
     "execution_count": 5,
     "metadata": {},
     "output_type": "execute_result"
    }
   ],
   "source": [
    "#Operators\n",
    "\n",
    "\"\"\" \n",
    "1. Arithmetic Operators\n",
    "2. Assignment Operators\n",
    "3. Comparison Operators\n",
    "4. Logical Operators\n",
    "5. Identity Operators\n",
    "6. Membership Operators\n",
    "7. Bitwise Operators \n",
    "\"\"\""
   ]
  },
  {
   "cell_type": "code",
   "execution_count": 18,
   "metadata": {},
   "outputs": [
    {
     "name": "stdout",
     "output_type": "stream",
     "text": [
      "23\n",
      "17\n",
      "60\n",
      "2\n",
      "8000\n",
      "6\n",
      "6.666666666666667\n"
     ]
    }
   ],
   "source": [
    "'''Arithmetic Operators'''\n",
    "\n",
    "a = 20\n",
    "b = 3\n",
    "\n",
    "def sum (x, y):\n",
    "    to_sum = x + y\n",
    "    print(to_sum)\n",
    "\n",
    "sum(a, b)\n",
    "\n",
    "minus = a - b \n",
    "\n",
    "times = a * b \n",
    "\n",
    "\n",
    "mod = a % b \n",
    "\n",
    "ex = a ** b\n",
    "\n",
    "divide = a / b\n",
    "\n",
    "floor = a // b \n",
    "\n",
    "print(minus, times, mod, ex, floor, divide, sep='\\n')\n"
   ]
  },
  {
   "cell_type": "code",
   "execution_count": null,
   "metadata": {},
   "outputs": [],
   "source": [
    "'''Assignment Operators'''\n",
    "\n"
   ]
  }
 ],
 "metadata": {
  "kernelspec": {
   "display_name": "base",
   "language": "python",
   "name": "python3"
  },
  "language_info": {
   "codemirror_mode": {
    "name": "ipython",
    "version": 3
   },
   "file_extension": ".py",
   "mimetype": "text/x-python",
   "name": "python",
   "nbconvert_exporter": "python",
   "pygments_lexer": "ipython3",
   "version": "3.12.7"
  }
 },
 "nbformat": 4,
 "nbformat_minor": 2
}

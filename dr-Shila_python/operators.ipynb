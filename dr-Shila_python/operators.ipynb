{
 "cells": [
  {
   "cell_type": "code",
   "execution_count": 5,
   "metadata": {},
   "outputs": [
    {
     "data": {
      "text/plain": [
       "' \\n1. Arithmetic Operators\\n2. Assignment Operators\\n3. Comparison Operators\\n4. Logical Operators\\n5. Identity Operators\\n6. Membership Operators\\n7. Bitwise Operators \\n'"
      ]
     },
     "execution_count": 5,
     "metadata": {},
     "output_type": "execute_result"
    }
   ],
   "source": [
    "#  Operators\n",
    "\n",
    "\"\"\" \n",
    "1. Arithmetic Operators\n",
    "2. Assignment Operators\n",
    "3. Comparison Operators\n",
    "4. Logical Operators\n",
    "5. Identity Operators\n",
    "6. Membership Operators\n",
    "7. Bitwise Operators \n",
    "\"\"\""
   ]
  },
  {
   "cell_type": "code",
   "execution_count": 18,
   "metadata": {},
   "outputs": [
    {
     "name": "stdout",
     "output_type": "stream",
     "text": [
      "23\n",
      "17\n",
      "60\n",
      "2\n",
      "8000\n",
      "6\n",
      "6.666666666666667\n"
     ]
    }
   ],
   "source": [
    "'''Arithmetic Operators'''\n",
    "\n",
    "a = 20\n",
    "b = 3\n",
    "\n",
    "def sum (x, y):\n",
    "    to_sum = x + y\n",
    "    print(to_sum)\n",
    "\n",
    "sum(a, b)\n",
    "\n",
    "minus = a - b \n",
    "\n",
    "times = a * b \n",
    "\n",
    "\n",
    "mod = a % b \n",
    "\n",
    "ex = a ** b\n",
    "\n",
    "divide = a / b\n",
    "\n",
    "floor = a // b \n",
    "\n",
    "print(minus, times, mod, ex, floor, divide, sep='\\n')\n"
   ]
  },
  {
   "cell_type": "code",
   "execution_count": 7,
   "metadata": {},
   "outputs": [
    {
     "name": "stdout",
     "output_type": "stream",
     "text": [
      "50\n",
      "50\n",
      "500\n",
      "2.0\n",
      "2\n",
      "0\n",
      "100000\n"
     ]
    }
   ],
   "source": [
    "'''Assignment Operators'''\n",
    "\n",
    "\"\"\"\n",
    "= \n",
    "+=\n",
    "-=\n",
    "*=\n",
    "/=\n",
    "%=\n",
    "**=\n",
    "\"\"\"\n",
    "# we also have //=\n",
    "\n",
    "# Examples:\n",
    "\n",
    "a = 40\n",
    "a = a + 10\n",
    "print(a)\n",
    "\n",
    "b = 40 \n",
    "b += 10 # do the same thing\n",
    "print(b)\n",
    "\n",
    "c = 100\n",
    "x = 5\n",
    "c *= x\n",
    "print(c)\n",
    "\n",
    "d = 10\n",
    "d /= 5\n",
    "print(d)\n",
    "\n",
    "f = 10\n",
    "f //= 5\n",
    "print(f)\n",
    "\n",
    "g = 10\n",
    "g %= 5\n",
    "print(g)\n",
    "\n",
    "h = 10\n",
    "y = 5\n",
    "h **= y\n",
    "print(h)\n",
    "\n",
    "\n"
   ]
  },
  {
   "cell_type": "code",
   "execution_count": 8,
   "metadata": {},
   "outputs": [
    {
     "name": "stdout",
     "output_type": "stream",
     "text": [
      "False\n",
      "True\n",
      "False\n",
      "True\n",
      "False\n",
      "True\n",
      "False\n",
      "True\n"
     ]
    }
   ],
   "source": [
    "'''Comparison Operators'''\n",
    "\n",
    "\"\"\"\n",
    "1. == Equal\n",
    "2. != Not Equal\n",
    "3. > Greater than\n",
    "4. < Less than\n",
    "5. >= Greater than or equal to\n",
    "6. <= Less than or equal to\n",
    "\"\"\"\n",
    "\n",
    "# Examples:\n",
    "\n",
    "a = 20\n",
    "b = 30\n",
    "\n",
    "print(a == b)\n",
    "print(a != b)\n",
    "# Examples:\n",
    "\n",
    "a = 20\n",
    "b = 30\n",
    "\n",
    "print(a == b)\n",
    "print(a != b)\n",
    "print(a > b)\n",
    "print(a < b)\n",
    "print(a >= b)\n",
    "print(a <= b)\n"
   ]
  },
  {
   "cell_type": "code",
   "execution_count": 18,
   "metadata": {},
   "outputs": [
    {
     "name": "stdout",
     "output_type": "stream",
     "text": [
      "True\n",
      "False\n",
      "False\n",
      "False\n",
      "\n",
      "\n",
      "True\n",
      "True\n",
      "False\n",
      "True\n",
      "\n",
      "\n",
      "False\n",
      "True\n",
      "True\n",
      "False\n"
     ]
    }
   ],
   "source": [
    "'''Logical Operators'''\n",
    "\n",
    "# AND OR NOT\n",
    "\n",
    "\"\"\"\n",
    "-- AND --\n",
    "True True --> True\n",
    "False True --> False\n",
    "True False --> False\n",
    "False False --> False\n",
    "\n",
    "-- OR --\n",
    "True True --> True\n",
    "True False --> True\n",
    "False True --> True\n",
    "False False --> False\n",
    "\n",
    "-- NOT --\n",
    "True -> False\n",
    "False -> True \n",
    "\"\"\"\n",
    "\n",
    "a = 45\n",
    "b = 20\n",
    "\n",
    "print(a > b and b < a)    # True e True → True\n",
    "print(a == b and b < a)   # False e True → False\n",
    "print(a < b and b > a)    # False e False → False\n",
    "print(a > b and b == a)   # True e False → False\n",
    "print('\\n')\n",
    "a = 45\n",
    "b = 20\n",
    "\n",
    "print(a > b or b < a)     # True ou True → True\n",
    "print(a == b or b < a)    # False ou True → True\n",
    "print(a < b or b > a)     # False ou False → False\n",
    "print(a > b or b == a)    # True ou False → True\n",
    "print('\\n')\n",
    "a = 45\n",
    "b = 20\n",
    "\n",
    "print(not a > b)          # not True → False\n",
    "print(not a == b)         # not False → True\n",
    "print(not a < b)          # not False → True\n",
    "print(not b < a)          # not True → False\n",
    "\n",
    "\n"
   ]
  },
  {
   "cell_type": "code",
   "execution_count": 24,
   "metadata": {},
   "outputs": [
    {
     "name": "stdout",
     "output_type": "stream",
     "text": [
      "True\n",
      "True\n",
      "False\n",
      "\n",
      "\n",
      "True\n",
      "False\n",
      "True\n"
     ]
    }
   ],
   "source": [
    "\"\"\"Membership Operators\"\"\"\n",
    "# They are used to check if a value is(or is not) present in a sequence, such as a list, strings or tuples.\n",
    "\n",
    "# Exemple:\n",
    "\n",
    "lista = [1, 2, 3]\n",
    "print(2 in lista)       # True (2 está na lista)\n",
    "print(4 not in lista)   # True (4 não está na lista)\n",
    "print(1 not in lista)   # False (1 está na lista)\n",
    "\n",
    "print('\\n')\n",
    "\n",
    "a = 'Hello'\n",
    "print('e' in a)\n",
    "print('y' in a)\n",
    "print('!' not in a)"
   ]
  },
  {
   "cell_type": "code",
   "execution_count": null,
   "metadata": {},
   "outputs": [],
   "source": [
    "\"\"\"Identity and Bitwise Operators\"\"\""
   ]
  }
 ],
 "metadata": {
  "kernelspec": {
   "display_name": "base",
   "language": "python",
   "name": "python3"
  },
  "language_info": {
   "codemirror_mode": {
    "name": "ipython",
    "version": 3
   },
   "file_extension": ".py",
   "mimetype": "text/x-python",
   "name": "python",
   "nbconvert_exporter": "python",
   "pygments_lexer": "ipython3",
   "version": "3.12.7"
  }
 },
 "nbformat": 4,
 "nbformat_minor": 2
}
